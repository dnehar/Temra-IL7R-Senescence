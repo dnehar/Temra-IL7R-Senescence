{
 "cells": [
  {
   "cell_type": "code",
   "execution_count": 1,
   "metadata": {},
   "outputs": [
    {
     "name": "stdout",
     "output_type": "stream",
     "text": [
      "scanpy==1.4.4.post1 anndata==0.6.22.post1 umap==0.3.10 numpy==1.17.2 scipy==1.3.1 pandas==0.25.1 scikit-learn==0.21.3 statsmodels==0.10.1 python-igraph==0.7.1 louvain==0.6.1\n"
     ]
    }
   ],
   "source": [
    "import numpy as np\n",
    "import pandas as pd\n",
    "import scanpy as sc\n",
    "\n",
    "sc.settings.verbosity = 3  # verbosity: errors (0), warnings (1), info (2), hints (3)\n",
    "sc.logging.print_versions()\n",
    "\n",
    "from matplotlib import rcParams\n",
    "\n",
    "import matplotlib\n",
    "import matplotlib.pyplot as plt\n",
    "matplotlib.style.use('default')\n",
    "\n"
   ]
  },
  {
   "cell_type": "code",
   "execution_count": 3,
   "metadata": {},
   "outputs": [],
   "source": [
    "sc.settings.set_figure_params(dpi=80)"
   ]
  },
  {
   "cell_type": "code",
   "execution_count": 4,
   "metadata": {},
   "outputs": [
    {
     "name": "stdout",
     "output_type": "stream",
     "text": [
      "... reading from cache file cache/projects-nehard-SingleCell-Aging-IL7R_HO-Aggregated-RawData-matrix.h5ad\n"
     ]
    }
   ],
   "source": [
    "adata_raw = sc.read_10x_mtx('/projects/nehard/SingleCell/Aging/IL7R_HO/Aggregated/RawData/', var_names='gene_symbols', cache=True)\n"
   ]
  },
  {
   "cell_type": "code",
   "execution_count": 5,
   "metadata": {},
   "outputs": [],
   "source": [
    "adata_raw.write('./IL7R_raw_090919.h5ad')"
   ]
  },
  {
   "cell_type": "code",
   "execution_count": 6,
   "metadata": {},
   "outputs": [],
   "source": [
    "adata_raw =sc.read('./IL7R_raw_090919.h5ad')"
   ]
  },
  {
   "cell_type": "code",
   "execution_count": 7,
   "metadata": {},
   "outputs": [
    {
     "data": {
      "text/plain": [
       "AnnData object with n_obs × n_vars = 82061 × 32738 \n",
       "    var: 'gene_ids'"
      ]
     },
     "execution_count": 7,
     "metadata": {},
     "output_type": "execute_result"
    }
   ],
   "source": [
    "adata_raw"
   ]
  },
  {
   "cell_type": "code",
   "execution_count": 9,
   "metadata": {},
   "outputs": [],
   "source": [
    "#----- save meta data --> R \n",
    "\n",
    "adata_raw.obs.to_csv('./Meta/Meta_IL7R_raw_090919.csv')\n"
   ]
  },
  {
   "cell_type": "code",
   "execution_count": 10,
   "metadata": {},
   "outputs": [
    {
     "data": {
      "text/html": [
       "<div>\n",
       "<style scoped>\n",
       "    .dataframe tbody tr th:only-of-type {\n",
       "        vertical-align: middle;\n",
       "    }\n",
       "\n",
       "    .dataframe tbody tr th {\n",
       "        vertical-align: top;\n",
       "    }\n",
       "\n",
       "    .dataframe thead th {\n",
       "        text-align: right;\n",
       "    }\n",
       "</style>\n",
       "<table border=\"1\" class=\"dataframe\">\n",
       "  <thead>\n",
       "    <tr style=\"text-align: right;\">\n",
       "      <th></th>\n",
       "      <th>Samples</th>\n",
       "      <th>IDs</th>\n",
       "      <th>Groups</th>\n",
       "      <th>Donors</th>\n",
       "      <th>Batches</th>\n",
       "    </tr>\n",
       "  </thead>\n",
       "  <tbody>\n",
       "    <tr>\n",
       "      <th>AAACCTGAGATATGCA-1</th>\n",
       "      <td>1</td>\n",
       "      <td>JB17037</td>\n",
       "      <td>IL7R_Neg</td>\n",
       "      <td>H0218</td>\n",
       "      <td>B1</td>\n",
       "    </tr>\n",
       "    <tr>\n",
       "      <th>AAACCTGAGCGCCTTG-1</th>\n",
       "      <td>1</td>\n",
       "      <td>JB17037</td>\n",
       "      <td>IL7R_Neg</td>\n",
       "      <td>H0218</td>\n",
       "      <td>B1</td>\n",
       "    </tr>\n",
       "    <tr>\n",
       "      <th>AAACCTGCAAGCTGGA-1</th>\n",
       "      <td>1</td>\n",
       "      <td>JB17037</td>\n",
       "      <td>IL7R_Neg</td>\n",
       "      <td>H0218</td>\n",
       "      <td>B1</td>\n",
       "    </tr>\n",
       "    <tr>\n",
       "      <th>AAACCTGCAAGGACAC-1</th>\n",
       "      <td>1</td>\n",
       "      <td>JB17037</td>\n",
       "      <td>IL7R_Neg</td>\n",
       "      <td>H0218</td>\n",
       "      <td>B1</td>\n",
       "    </tr>\n",
       "  </tbody>\n",
       "</table>\n",
       "</div>"
      ],
      "text/plain": [
       "                    Samples      IDs    Groups Donors Batches\n",
       "AAACCTGAGATATGCA-1        1  JB17037  IL7R_Neg  H0218      B1\n",
       "AAACCTGAGCGCCTTG-1        1  JB17037  IL7R_Neg  H0218      B1\n",
       "AAACCTGCAAGCTGGA-1        1  JB17037  IL7R_Neg  H0218      B1\n",
       "AAACCTGCAAGGACAC-1        1  JB17037  IL7R_Neg  H0218      B1"
      ]
     },
     "execution_count": 10,
     "metadata": {},
     "output_type": "execute_result"
    }
   ],
   "source": [
    "#---- meta data to be added into the h5ad object \n",
    "\n",
    "Meta = pd.read_csv('./Meta/IL7R_MetaII_090919.csv', index_col=0)\n",
    "Meta.head(4)\n"
   ]
  },
  {
   "cell_type": "code",
   "execution_count": 11,
   "metadata": {},
   "outputs": [
    {
     "data": {
      "text/plain": [
       "AnnData object with n_obs × n_vars = 82061 × 32738 \n",
       "    obs: 'Samples', 'IDs', 'Batches', 'Groups'\n",
       "    var: 'gene_ids'"
      ]
     },
     "execution_count": 11,
     "metadata": {},
     "output_type": "execute_result"
    }
   ],
   "source": [
    "#---- add meta data \n",
    "\n",
    "adata_raw.obs['Samples']= Meta['Samples']\n",
    "adata_raw.obs['IDs']= Meta['IDs']\n",
    "#adata_raw.obs['Sample_ids']= Meta['Sample_ids']\n",
    "adata_raw.obs['Batches']= Meta['Batches']\n",
    "adata_raw.obs['Groups']= Meta['Groups']\n",
    "#adata_raw.obs['Names']= Meta['Names']\n",
    "\n",
    "adata_raw\n"
   ]
  },
  {
   "cell_type": "code",
   "execution_count": 12,
   "metadata": {},
   "outputs": [
    {
     "data": {
      "text/plain": [
       "array(['JB17037', 'JB17038', 'JB17039', 'JB17040', 'JB17041', 'JB17042',\n",
       "       'JB17043', 'JB17044', 'JB17045', 'JB17046', 'JB17047', 'JB17048'],\n",
       "      dtype='<U7')"
      ]
     },
     "execution_count": 12,
     "metadata": {},
     "output_type": "execute_result"
    }
   ],
   "source": [
    "names = np.unique(list(adata_raw.obs['IDs']))\n",
    "names"
   ]
  },
  {
   "cell_type": "code",
   "execution_count": 13,
   "metadata": {},
   "outputs": [],
   "source": [
    "#--------------------- run Scrublet per sample\n",
    "\n",
    "%matplotlib inline\n",
    "import scrublet as scr\n",
    "import scipy.io\n",
    "import matplotlib.pyplot as plt\n",
    "import numpy as np\n",
    "import os\n",
    "\n",
    "import numpy as np\n",
    "import pandas as pd\n",
    "import scanpy.api as sc\n",
    "\n",
    "import pandas as pd\n"
   ]
  },
  {
   "cell_type": "code",
   "execution_count": 14,
   "metadata": {},
   "outputs": [],
   "source": [
    "#--- cerate Files folder where scrubet output (1 csv files per sample)  be saved \n",
    "!mkdir Files"
   ]
  },
  {
   "cell_type": "code",
   "execution_count": null,
   "metadata": {},
   "outputs": [],
   "source": [
    "for sample in names:\n",
    "    \n",
    "    cells_of_interest = adata_raw.obs.loc[adata_raw.obs[\"IDs\"] == sample, :].index\n",
    "    \n",
    "    adata_i = adata_raw[cells_of_interest, :]\n",
    "    \n",
    "    scrub = scr.Scrublet(adata_i.X, expected_doublet_rate=0.06)\n",
    "    \n",
    "    doublet_scores, predicted_doublets = scrub.scrub_doublets(min_counts=2, \n",
    "                                                          min_cells=3, \n",
    "                                                          min_gene_variability_pctl=85, \n",
    "                                                          n_prin_comps=30)\n",
    "    scrub.plot_histogram();\n",
    "    \n",
    "    print('Running UMAP...')\n",
    "        \n",
    "    scrub.set_embedding('UMAP', scr.get_umap(scrub.manifold_obs_, 10, min_dist=0.3))\n",
    "        \n",
    "    print('Done.')\n",
    "        \n",
    "    scrub.plot_embedding('UMAP', order_points=True);\n",
    "    \n",
    "    #doublet_score= pd.DataFrame({'doublet_scores' :list(doublet_scores),'predicted_doublets': list(predicted_doublets)})\n",
    "        \n",
    "    adata_i.obs['doublet_score']=scrub.doublet_scores_obs_\n",
    "    adata_i.uns['sim_doublet_score']=scrub.doublet_scores_sim_\n",
    "        \n",
    "    adata_i.obs[['doublet_score']].to_csv('./Files/'+ sample + \"_Scrub.csv\")\n",
    "    \n",
    "    continue"
   ]
  },
  {
   "cell_type": "code",
   "execution_count": 17,
   "metadata": {},
   "outputs": [],
   "source": [
    "import glob\n",
    "import re\n",
    "\n",
    "\n",
    "path = r'./Files' # use your path\n",
    "all_files = glob.glob(path + \"/*.csv\")\n",
    "\n",
    "li = []\n",
    "\n",
    "for filename in all_files:\n",
    "    df = pd.read_csv(filename, index_col=None, header=0)\n",
    "    li.append(df)\n",
    "\n",
    "frame = pd.concat(li, axis=0, ignore_index=True)\n",
    "frame.to_csv(\"./Files/comb_csv_IL7R.csv\", index=False) \n"
   ]
  },
  {
   "cell_type": "code",
   "execution_count": 19,
   "metadata": {},
   "outputs": [],
   "source": [
    "Scru = pd.read_csv(\"./Files/comb_csv_IL7R.csv\",header=0)"
   ]
  },
  {
   "cell_type": "code",
   "execution_count": 20,
   "metadata": {},
   "outputs": [
    {
     "data": {
      "text/html": [
       "<div>\n",
       "<style scoped>\n",
       "    .dataframe tbody tr th:only-of-type {\n",
       "        vertical-align: middle;\n",
       "    }\n",
       "\n",
       "    .dataframe tbody tr th {\n",
       "        vertical-align: top;\n",
       "    }\n",
       "\n",
       "    .dataframe thead th {\n",
       "        text-align: right;\n",
       "    }\n",
       "</style>\n",
       "<table border=\"1\" class=\"dataframe\">\n",
       "  <thead>\n",
       "    <tr style=\"text-align: right;\">\n",
       "      <th></th>\n",
       "      <th>doublet_score</th>\n",
       "    </tr>\n",
       "    <tr>\n",
       "      <th>index</th>\n",
       "      <th></th>\n",
       "    </tr>\n",
       "  </thead>\n",
       "  <tbody>\n",
       "    <tr>\n",
       "      <th>AAACCTGAGAGTACCG-3</th>\n",
       "      <td>0.055689</td>\n",
       "    </tr>\n",
       "    <tr>\n",
       "      <th>AAACCTGAGATCACGG-3</th>\n",
       "      <td>0.075000</td>\n",
       "    </tr>\n",
       "    <tr>\n",
       "      <th>AAACCTGAGTAGTGCG-3</th>\n",
       "      <td>0.097022</td>\n",
       "    </tr>\n",
       "    <tr>\n",
       "      <th>AAACCTGAGTGGTAAT-3</th>\n",
       "      <td>0.329170</td>\n",
       "    </tr>\n",
       "    <tr>\n",
       "      <th>AAACCTGCAATCCGAT-3</th>\n",
       "      <td>0.278588</td>\n",
       "    </tr>\n",
       "  </tbody>\n",
       "</table>\n",
       "</div>"
      ],
      "text/plain": [
       "                    doublet_score\n",
       "index                            \n",
       "AAACCTGAGAGTACCG-3       0.055689\n",
       "AAACCTGAGATCACGG-3       0.075000\n",
       "AAACCTGAGTAGTGCG-3       0.097022\n",
       "AAACCTGAGTGGTAAT-3       0.329170\n",
       "AAACCTGCAATCCGAT-3       0.278588"
      ]
     },
     "execution_count": 20,
     "metadata": {},
     "output_type": "execute_result"
    }
   ],
   "source": [
    "Scru = Scru.set_index('index')\n",
    "Scru.head(5)"
   ]
  },
  {
   "cell_type": "code",
   "execution_count": 21,
   "metadata": {},
   "outputs": [],
   "source": [
    "adata_raw.obs['doublet_score']=Scru.doublet_score\n"
   ]
  },
  {
   "cell_type": "code",
   "execution_count": 22,
   "metadata": {},
   "outputs": [
    {
     "data": {
      "text/html": [
       "<div>\n",
       "<style scoped>\n",
       "    .dataframe tbody tr th:only-of-type {\n",
       "        vertical-align: middle;\n",
       "    }\n",
       "\n",
       "    .dataframe tbody tr th {\n",
       "        vertical-align: top;\n",
       "    }\n",
       "\n",
       "    .dataframe thead th {\n",
       "        text-align: right;\n",
       "    }\n",
       "</style>\n",
       "<table border=\"1\" class=\"dataframe\">\n",
       "  <thead>\n",
       "    <tr style=\"text-align: right;\">\n",
       "      <th></th>\n",
       "      <th>Samples</th>\n",
       "      <th>IDs</th>\n",
       "      <th>Batches</th>\n",
       "      <th>Groups</th>\n",
       "      <th>doublet_score</th>\n",
       "    </tr>\n",
       "    <tr>\n",
       "      <th>index</th>\n",
       "      <th></th>\n",
       "      <th></th>\n",
       "      <th></th>\n",
       "      <th></th>\n",
       "      <th></th>\n",
       "    </tr>\n",
       "  </thead>\n",
       "  <tbody>\n",
       "    <tr>\n",
       "      <th>AAACCTGAGATATGCA-1</th>\n",
       "      <td>1</td>\n",
       "      <td>JB17037</td>\n",
       "      <td>B1</td>\n",
       "      <td>IL7R_Neg</td>\n",
       "      <td>0.238586</td>\n",
       "    </tr>\n",
       "    <tr>\n",
       "      <th>AAACCTGAGCGCCTTG-1</th>\n",
       "      <td>1</td>\n",
       "      <td>JB17037</td>\n",
       "      <td>B1</td>\n",
       "      <td>IL7R_Neg</td>\n",
       "      <td>0.160714</td>\n",
       "    </tr>\n",
       "    <tr>\n",
       "      <th>AAACCTGCAAGCTGGA-1</th>\n",
       "      <td>1</td>\n",
       "      <td>JB17037</td>\n",
       "      <td>B1</td>\n",
       "      <td>IL7R_Neg</td>\n",
       "      <td>0.107143</td>\n",
       "    </tr>\n",
       "    <tr>\n",
       "      <th>AAACCTGCAAGGACAC-1</th>\n",
       "      <td>1</td>\n",
       "      <td>JB17037</td>\n",
       "      <td>B1</td>\n",
       "      <td>IL7R_Neg</td>\n",
       "      <td>0.206494</td>\n",
       "    </tr>\n",
       "    <tr>\n",
       "      <th>AAACCTGCACGGCTAC-1</th>\n",
       "      <td>1</td>\n",
       "      <td>JB17037</td>\n",
       "      <td>B1</td>\n",
       "      <td>IL7R_Neg</td>\n",
       "      <td>0.117551</td>\n",
       "    </tr>\n",
       "  </tbody>\n",
       "</table>\n",
       "</div>"
      ],
      "text/plain": [
       "                    Samples      IDs Batches    Groups  doublet_score\n",
       "index                                                                \n",
       "AAACCTGAGATATGCA-1        1  JB17037      B1  IL7R_Neg       0.238586\n",
       "AAACCTGAGCGCCTTG-1        1  JB17037      B1  IL7R_Neg       0.160714\n",
       "AAACCTGCAAGCTGGA-1        1  JB17037      B1  IL7R_Neg       0.107143\n",
       "AAACCTGCAAGGACAC-1        1  JB17037      B1  IL7R_Neg       0.206494\n",
       "AAACCTGCACGGCTAC-1        1  JB17037      B1  IL7R_Neg       0.117551"
      ]
     },
     "execution_count": 22,
     "metadata": {},
     "output_type": "execute_result"
    }
   ],
   "source": [
    "adata_raw.obs.head(5)"
   ]
  },
  {
   "cell_type": "code",
   "execution_count": 23,
   "metadata": {},
   "outputs": [
    {
     "data": {
      "text/plain": [
       "AnnData object with n_obs × n_vars = 82061 × 32738 \n",
       "    obs: 'Samples', 'IDs', 'Batches', 'Groups', 'doublet_score'\n",
       "    var: 'gene_ids'"
      ]
     },
     "execution_count": 23,
     "metadata": {},
     "output_type": "execute_result"
    }
   ],
   "source": [
    "adata_raw"
   ]
  },
  {
   "cell_type": "code",
   "execution_count": 24,
   "metadata": {},
   "outputs": [],
   "source": [
    "#--- Define threshold to be applyed + define doublet vs. singlet\n",
    "threshold = 0.18\n",
    "adata_raw.obs['predicted_doublets_1'] = pd.Categorical(['doublet' if x > threshold else 'singlet' for x in adata_raw.obs.doublet_score])"
   ]
  },
  {
   "cell_type": "code",
   "execution_count": 25,
   "metadata": {},
   "outputs": [
    {
     "data": {
      "text/plain": [
       "singlet    63211\n",
       "doublet    18850\n",
       "Name: predicted_doublets_1, dtype: int64"
      ]
     },
     "execution_count": 25,
     "metadata": {},
     "output_type": "execute_result"
    }
   ],
   "source": [
    "adata_raw.obs.predicted_doublets_1.value_counts()"
   ]
  },
  {
   "cell_type": "code",
   "execution_count": 27,
   "metadata": {},
   "outputs": [
    {
     "data": {
      "text/plain": [
       "Index(['AAACCTGAGCGCCTTG-1', 'AAACCTGCAAGCTGGA-1', 'AAACCTGCACGGCTAC-1',\n",
       "       'AAACCTGCAGACTCGC-1', 'AAACCTGCATCGTCGG-1', 'AAACCTGGTGAGGCTA-1',\n",
       "       'AAACCTGGTTACAGAA-1', 'AAACCTGGTTACGACT-1', 'AAACCTGTCATCGGAT-1',\n",
       "       'AAACCTGTCGGTTAAC-1',\n",
       "       ...\n",
       "       'TTTGGTTTCTTCGGTC-12', 'TTTGTCAAGCTCAACT-12', 'TTTGTCAAGTGCTGCC-12',\n",
       "       'TTTGTCACAAACGTGG-12', 'TTTGTCACATAGGATA-12', 'TTTGTCAGTAGTGAAT-12',\n",
       "       'TTTGTCAGTCATCCCT-12', 'TTTGTCAGTGCCTTGG-12', 'TTTGTCATCAGCGACC-12',\n",
       "       'TTTGTCATCGTCCAGG-12'],\n",
       "      dtype='object', name='index', length=63211)"
      ]
     },
     "execution_count": 27,
     "metadata": {},
     "output_type": "execute_result"
    }
   ],
   "source": [
    "cells_of_interest1 = adata_raw.obs.loc[adata_raw.obs[\"predicted_doublets_1\"].isin([\"singlet\"]), :].index\n",
    "cells_of_interest1"
   ]
  },
  {
   "cell_type": "code",
   "execution_count": 28,
   "metadata": {},
   "outputs": [
    {
     "data": {
      "text/plain": [
       "View of AnnData object with n_obs × n_vars = 63211 × 32738 \n",
       "    obs: 'Samples', 'IDs', 'Batches', 'Groups', 'doublet_score', 'predicted_doublets_1'\n",
       "    var: 'gene_ids'"
      ]
     },
     "execution_count": 28,
     "metadata": {},
     "output_type": "execute_result"
    }
   ],
   "source": [
    "adata_Scrub=adata_raw[cells_of_interest1, :]\n",
    "adata_Scrub"
   ]
  },
  {
   "cell_type": "code",
   "execution_count": 30,
   "metadata": {},
   "outputs": [
    {
     "name": "stderr",
     "output_type": "stream",
     "text": [
      "Trying to set attribute `.obs` of view, making a copy.\n",
      "... storing 'IDs' as categorical\n",
      "Trying to set attribute `.obs` of view, making a copy.\n",
      "... storing 'Batches' as categorical\n",
      "Trying to set attribute `.obs` of view, making a copy.\n",
      "... storing 'Groups' as categorical\n"
     ]
    }
   ],
   "source": [
    "#-- save the onject after doublet removal \n",
    "\n",
    "adata_Scrub.write('./IL7R_Scrub_BC_090919.h5ad')"
   ]
  }
 ],
 "metadata": {
  "kernelspec": {
   "display_name": "loompy",
   "language": "python",
   "name": "loompy"
  },
  "language_info": {
   "codemirror_mode": {
    "name": "ipython",
    "version": 3
   },
   "file_extension": ".py",
   "mimetype": "text/x-python",
   "name": "python",
   "nbconvert_exporter": "python",
   "pygments_lexer": "ipython3",
   "version": "3.6.9"
  }
 },
 "nbformat": 4,
 "nbformat_minor": 4
}
